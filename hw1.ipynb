{
  "nbformat": 4,
  "nbformat_minor": 0,
  "metadata": {
    "kernelspec": {
      "display_name": "Python 3",
      "language": "python",
      "name": "python3"
    },
    "language_info": {
      "codemirror_mode": {
        "name": "ipython",
        "version": 3
      },
      "file_extension": ".py",
      "mimetype": "text/x-python",
      "name": "python",
      "nbconvert_exporter": "python",
      "pygments_lexer": "ipython3",
      "version": "3.5.2"
    },
    "colab": {
      "name": "hw1.ipynb",
      "provenance": [],
      "collapsed_sections": [],
      "toc_visible": true
    }
  },
  "cells": [
    {
      "cell_type": "markdown",
      "metadata": {
        "id": "9lAsyeOwFnoX"
      },
      "source": [
        "# CSCE 623 Homework Assignment 1\n"
      ]
    },
    {
      "cell_type": "markdown",
      "metadata": {
        "id": "46d-KBtJJxN1"
      },
      "source": [
        "### Student Name:  <font color=\"blue\">Insert Name</font>"
      ]
    },
    {
      "cell_type": "markdown",
      "metadata": {
        "id": "Yna07rL4Jz43"
      },
      "source": [
        "## Date: <font color=\"blue\">Insert Date</font>"
      ]
    },
    {
      "cell_type": "markdown",
      "metadata": {
        "id": "P685WkBlKB2x"
      },
      "source": [
        "## Disclosures\n",
        "\n",
        "*   None"
      ]
    },
    {
      "cell_type": "markdown",
      "metadata": {
        "id": "zXzR22oMKEtf"
      },
      "source": [
        "## Overview\n",
        "\n",
        "In this homework assignment, you will conduct simple linear regression using the concepts you've learned in class and from the course ISLR and HOML texts. Using a dataset of automobile data, you will first attempt to find the y-intercept of the relationship between horsepower and miles per gallong manually using a numerical process. You will then calculate the exact solution using a closed-form analytical method and compare your results. Finally, you will use the Python sklearn package to fit a linear model to the data.\n",
        "\n",
        "This assignment includes both written and programming components."
      ]
    },
    {
      "cell_type": "markdown",
      "metadata": {
        "id": "qbbSOVyq7lYk"
      },
      "source": [
        "### Written Components\n",
        "Full effort answers to written components should include not only the answer to the question, but they should also include supporting information. You should provide justification or supporting information even if the question only asks for a single number or short answer."
      ]
    },
    {
      "cell_type": "markdown",
      "metadata": {
        "id": "a-5OaiNO7m6F"
      },
      "source": [
        "### Programming Components\n",
        "Use Python to perform any manipulations you make to provided datasets, all calculations and mathematical transformations, and to generate graphs, figures, or other support to explain how you arrived at your written answers."
      ]
    },
    {
      "cell_type": "markdown",
      "metadata": {
        "id": "a0Zjdxie-jWf"
      },
      "source": [
        "### Helpful Tips\n",
        "\n",
        "You might find these Python packages/imports helpful\n",
        "\n",
        "``` python\n",
        "import numpy as np\n",
        "import matplotlib.pyplot as plt\n",
        "\n",
        "#make plots inline using jupyter magic\n",
        "%matplotlib inline\n",
        "\n",
        "import pandas as pd\n",
        "from pandas.plotting import scatter_matrix\n",
        "from sklearn import datasets, linear_model\n",
        "from sklearn.metrics import mean_squared_error\n",
        "from sklearn.metrics import explained_variance_score\n",
        "\n",
        "from IPython.display import Markdown as md  #enable markdown within code cell\n",
        "from IPython.display import display, Math, Latex\n",
        "\n",
        "import seaborn as sns\n",
        "```"
      ]
    },
    {
      "cell_type": "markdown",
      "metadata": {
        "id": "kS60EAw9MiU2"
      },
      "source": [
        "## Simple Linear Regression"
      ]
    },
    {
      "cell_type": "markdown",
      "metadata": {
        "id": "A5yhrcvjN0AD"
      },
      "source": [
        "### STEP 0"
      ]
    },
    {
      "cell_type": "markdown",
      "metadata": {
        "id": "pFdGmA3GN3_q"
      },
      "source": [
        "Install any packages you need for your notebook. If using the Google Colab environment, you will not need to install any additional packages."
      ]
    },
    {
      "cell_type": "code",
      "metadata": {
        "id": "AqoMuH_YOJ3e",
        "colab": {
          "base_uri": "https://localhost:8080/",
          "height": 35
        },
        "outputId": "2f75c087-c439-4021-f345-0aa4d5b7a1c2"
      },
      "source": [
        "\"\"\"\n",
        "CSCE 623 HW1. Simple Linear Regression\n",
        "\"\"\"\n",
        "\n",
        "# install packages, set configuration, as needed"
      ],
      "execution_count": null,
      "outputs": [
        {
          "output_type": "execute_result",
          "data": {
            "application/vnd.google.colaboratory.intrinsic+json": {
              "type": "string"
            },
            "text/plain": [
              "'\\nCSCE 623 HW1. Simple Linear Regression\\n'"
            ]
          },
          "metadata": {
            "tags": []
          },
          "execution_count": 1
        }
      ]
    },
    {
      "cell_type": "markdown",
      "metadata": {
        "id": "1HI9buTTOPHH"
      },
      "source": [
        "Import any packages you need for your notebook"
      ]
    },
    {
      "cell_type": "code",
      "metadata": {
        "id": "LAEpXYjRFnoe"
      },
      "source": [
        "\n",
        "STEP_0_COMPLETE = False"
      ],
      "execution_count": null,
      "outputs": []
    },
    {
      "cell_type": "markdown",
      "metadata": {
        "id": "Z4Lwf_jiXqXK"
      },
      "source": [
        "### Data Analysis\n",
        "\n",
        "In steps 1-2, you'll import and conduct an analysis of the `auto.csv` dataset."
      ]
    },
    {
      "cell_type": "markdown",
      "metadata": {
        "id": "EwKDAUtjFnof"
      },
      "source": [
        "#### STEP 1"
      ]
    },
    {
      "cell_type": "markdown",
      "metadata": {
        "id": "G7c6P84MOuJB"
      },
      "source": [
        "For this assignment, you will use the auto.csv dataset located at https://raw.githubusercontent.com/afit-csce623-master/datasets/main/auto.csv.\n",
        "\n",
        "This dataset includes missing values, denoted as \"?\". You must handle these missing values. A suggested option for this dataset is to remove observations with missing data.\n",
        "\n",
        "Store the dataset in a `pandas` `dataframe` called `df`."
      ]
    },
    {
      "cell_type": "code",
      "metadata": {
        "scrolled": true,
        "id": "_tQNDIVeFnog"
      },
      "source": [
        "#STEP 1\n",
        "\n",
        "#STUDENT CODE - insert code to load auto.csv using pandas and preprocess it (handle missing values)\n",
        "# store your data in a dataframe called 'df'\n",
        "#---------------------------------------------    \n",
        "\n",
        "#---------------------------------------------    \n",
        "\n",
        "\n",
        "#show the dataset was loaded by displaying first few rows\n",
        "# df.head()\n",
        "\n",
        "STEP_1_COMPLETE = False"
      ],
      "execution_count": null,
      "outputs": []
    },
    {
      "cell_type": "markdown",
      "metadata": {
        "id": "L1HzMDO0Fnoh"
      },
      "source": [
        "#### STEP 2\n",
        "A common first step after importing a dataset is to explore it. Useful `pandas` `dataframe` methods include `info`, `hist`, and `corr` as well as `scatter_matrix` in `pandas.plotting`. You may also find the `pairplot` function in the `seaborn` package to be useful.\n",
        "\n",
        "Use Python to do the following and then answer the questions below:\n",
        "\n",
        "1. Display statistics of the dataset.\n",
        "2. Display a histogram of each of the individual feature values.\n",
        "3. Choose a subset of at least 5 attributes you expect to be related to one another and display a scatterplot of each of the pairings between each possible pair of these attributes."
      ]
    },
    {
      "cell_type": "markdown",
      "metadata": {
        "id": "gP7IE26KSQiR"
      },
      "source": [
        "##### Programming"
      ]
    },
    {
      "cell_type": "code",
      "metadata": {
        "scrolled": true,
        "id": "8o2O3DAPFnoh"
      },
      "source": [
        "#STEP 2\n",
        "\n",
        "#STUDENT CODE - Insert code to explore the dataset here\n",
        "#---------------------------------------------\n",
        "\n",
        "#--------------------------------------------- "
      ],
      "execution_count": null,
      "outputs": []
    },
    {
      "cell_type": "markdown",
      "metadata": {
        "id": "9lRxutBfFnoi"
      },
      "source": [
        "##### <font color='blue'>Written Responses</font>\n",
        "\n",
        "1. How many observations/datapoints are there?\n",
        "   \n",
        "   <font color='green'>Student Answer</font>\n",
        "\n",
        "2. How many features/attributes are there per observation? Describe these features in terms of type of data (feature/response and numerical/categorical)\n",
        "   \n",
        "   <font color='green'>Student Answer</font>\n",
        "\n",
        "3. Describe the distribution of each feature in terms of statistical descriptions (e.g., uniform, normal/Gaussian, exponential, skewed, multi-modal).\n",
        "\n",
        "   <font color='green'>Student Answer</font>\n",
        "\n",
        "4. Describe the attributes you chose for relational analysis in terms of weak- and strong-relationships, linear and non-linear relationships, and positive and negative correlations.\n",
        "\n",
        "   <font color='green'>Student Answer</font>"
      ]
    },
    {
      "cell_type": "code",
      "metadata": {
        "id": "2j_FdhbT8GRP"
      },
      "source": [
        "STEP_2_COMPLETE = False"
      ],
      "execution_count": null,
      "outputs": []
    },
    {
      "cell_type": "markdown",
      "metadata": {
        "id": "sZN0PgymX87b"
      },
      "source": [
        "### Find optimal $\\beta_1$ value\n",
        "\n",
        "In steps 3-7, you'll find an optimal $\\beta_1$ value assuming $\\beta_0$ = 40."
      ]
    },
    {
      "cell_type": "markdown",
      "metadata": {
        "id": "E_WKjobOFnoj"
      },
      "source": [
        "#### STEP 3\n",
        "Make a single scatterplot of horsepower (x axis) by MPG (y axis).\n",
        "\n",
        "Set the axes so that the origin (0,0) is included, as well as all of the datapoints. Label axes appropriately, \"Horsepower\" and \"MPG\"). \n",
        "\n",
        "Assuming the relationship between Horsepower and MPG is linear and $\\beta_0$ (y-intercept) is fixed at 40, estimate a value of `beta1guess` (slope) from a visual inspection of the scatterplot."
      ]
    },
    {
      "cell_type": "code",
      "metadata": {
        "id": "CrOFmK8cFnoj"
      },
      "source": [
        "#STEP 3\n",
        "\n",
        "beta0init = 40.\n",
        "\n",
        "#STUDENT CODE - Make a single scatterplot of horsepower (x axis) by MPG (y axis) \n",
        "# Insert the value of beta1guess based on visual analysis the graph\n",
        "#---------------------------------------------  \n",
        "\n",
        "#--------------------------------------------- \n",
        "\n",
        "# md(r\"Guess for $\\beta_1$ = %f\" %beta1guess)\n",
        "\n",
        "STEP_3_COMPLETE = False"
      ],
      "execution_count": null,
      "outputs": []
    },
    {
      "cell_type": "markdown",
      "metadata": {
        "id": "Vv6PR9nqFnok"
      },
      "source": [
        "#### STEP 4\n",
        "Make a `numpy` array of possible $\\beta_1$ values named `beta1bracket` that surround your `beta1guess` value. Do not hard code your values. Instead, use code. You may find the `numpy` `arange` or `linspace` functions useful."
      ]
    },
    {
      "cell_type": "code",
      "metadata": {
        "id": "0r8oTkVGFnok"
      },
      "source": [
        "#STEP 4\n",
        "\n",
        "#STUDENT CODE - Insert code to make a set of possible beta1 values to test & display the values you chose\n",
        "#---------------------------------------------          \n",
        "\n",
        "#--------------------------------------------- \n",
        "\n",
        "STEP_4_COMPLETE = False"
      ],
      "execution_count": null,
      "outputs": []
    },
    {
      "cell_type": "markdown",
      "metadata": {
        "id": "KziJNpVLFnol"
      },
      "source": [
        "#### STEP 5\n",
        "\n",
        "Create a function `rss1d(beta0, beta1, x, y)` to compute the sum of squared residuals (RSS) for a given $\\beta_0$ and $\\beta_1$ and a vector of input features `x` and target values `y`. You may assume that `x` and `y` are each single vector arrays (in this case, `pandas` Series).\n",
        "\n",
        "Then, use this function to compute the RSS for the fixed `beta0` value (40) and for each member of the `beta1bracket` vector you created in STEP 4. Store these RSS values in a `numpy` array named `rssbeta1`.\n"
      ]
    },
    {
      "cell_type": "code",
      "metadata": {
        "id": "2f5iTroKFnol"
      },
      "source": [
        "#STEP 5\n",
        "\n",
        "#STUDENT CODE - Insert code to compute the sum of squared residual errors (RSS) under each possible beta1bracket member.\n",
        "#---------------------------------------------\n",
        "\n",
        "#--------------------------------------------- \n",
        "\n",
        "STEP_5_COMPLETE = False"
      ],
      "execution_count": null,
      "outputs": []
    },
    {
      "cell_type": "markdown",
      "metadata": {
        "id": "mJ7q_15OFnom"
      },
      "source": [
        "#### STEP 6\n",
        "\n",
        "Make a new plot of $\\beta_1$ values on the x axis and the RSS values you calculated in STEP 5 on the y axis (computed in step 5). Label your axes and use math fonts in your labels.\n",
        "\n",
        "Use the `numpy` function `argmin` to find the $\\beta_1$ value having the smallest RSS. Store this value in a variable named `beta1min`."
      ]
    },
    {
      "cell_type": "code",
      "metadata": {
        "id": "wlT7lXhdFnom"
      },
      "source": [
        "#STEP 6\n",
        "\n",
        "#STUDENT CODE - make a new plot of beta_1 values on the x axis and RSS cost on the y axis (computed in step 5). \n",
        "#label your axes and use math fonts in your labels if possible\n",
        "#find the beta1 value having the smallest RSS, and assign this value to beta1min\n",
        "#---------------------------------------------          \n",
        "\n",
        "#--------------------------------------------- \n",
        "\n",
        "STEP_6_COMPLETE = False"
      ],
      "execution_count": null,
      "outputs": []
    },
    {
      "cell_type": "markdown",
      "metadata": {
        "id": "MyPlYih3Fnon"
      },
      "source": [
        "#### STEP 7\n",
        "\n",
        "<font color='blue'>Describe the RSS plot you created in STEP 6 by answering the following questions.</font>\n",
        "\n",
        "1. What is the shape of the plot in STEP 6?  \n",
        "  \n",
        "  <font color='green'>Student Answer</font>\n",
        "\n",
        "2. Using the plot, how might someone find the best value of $\\beta_1$:  \n",
        "  \n",
        "  <font color='green'>Student Answer</font>\n",
        "\n",
        "3. Select & report value of $\\beta_1$ you think will have the best fit. Note that you may need to improve your estimate in STEP 3 or add additional $\\beta_1$ values in `beta1bracket` in STEP 4, then repeat steps 5 and 6. Assuming the range of values in `beta1bracket` have sufficient granularity and contain an optimal $\\beta_1$ value, you may find the use of the `numpy` function `argmin` will be helpful to find the $\\beta_1$ value having the smallest RSS value.\n",
        "\n",
        "  <font color='green'>Student Answer</font>\n",
        "\n",
        "\n",
        "\n"
      ]
    },
    {
      "cell_type": "code",
      "metadata": {
        "id": "FIgXb5fK8U3f"
      },
      "source": [
        "STEP_7_COMPLETE = False"
      ],
      "execution_count": null,
      "outputs": []
    },
    {
      "cell_type": "markdown",
      "metadata": {
        "id": "EHSOPqk2aSsz"
      },
      "source": [
        "### Evaluate $\\beta_1$ value\n",
        "\n",
        "In steps 8-12, you'll evaluate the $\\beta_1$ value you discovered in steps 3-7 and compare it to the closed form solution."
      ]
    },
    {
      "cell_type": "markdown",
      "metadata": {
        "id": "R9iiu6xSFnoo"
      },
      "source": [
        "#### STEP 8\n",
        "Build a new scatterplot with horsepower(x axis) vs MPG (y axis). Label your scatterplot data, \"Raw data\".\n",
        "\n",
        "Add a line to the plot - the linear regression line in <font color=\"red\">red</font> implied by the fixed $\\beta_0 = 40$ and your best choice for $\\beta_1$ (`beta1min`). Label your linear regression line, \"1st order fitted line\"."
      ]
    },
    {
      "cell_type": "code",
      "metadata": {
        "id": "2Te5dS26Fnoo"
      },
      "source": [
        "#STEP 8\n",
        "\n",
        "#STUDENT CODE - Build a new scatterplot with horsepower(x axis) vs MPG (y axis)\n",
        "# add a line to the plot - the linear regression line implied by the fixed beta0=40 and your best choice for beta1 \n",
        "#---------------------------------------------\n",
        "\n",
        "#--------------------------------------------- \n",
        "\n",
        "STEP_8_COMPLETE = False"
      ],
      "execution_count": null,
      "outputs": []
    },
    {
      "cell_type": "markdown",
      "metadata": {
        "id": "-4T3LZvrFnop"
      },
      "source": [
        "#### STEP 9\n",
        "Implement equation 3.4 on page 62 to develop the closed-form function `computeBetas(xVec, yVec)` \n",
        "which accepts a column vector of x values and a column vector of y values and returns betas, \n",
        "which is a structure containing the values for the 2 coefficients $\\beta_0$ and $\\beta_1$  "
      ]
    },
    {
      "cell_type": "code",
      "metadata": {
        "id": "92BdJfUfFnop"
      },
      "source": [
        "#STEP 9\n",
        "\n",
        "#STUDENT CODE - In code, implement equation 3.4 on page 62 to develop the closed-form function computeBetas(xVec, yVec) \n",
        "# which accepts a column vector of x values and a column vector of y values and returns betas, \n",
        "# which is a structure containing the values for the 2 coefficients beta0 and beta1  \n",
        "#--------------------------------------------- \n",
        "\n",
        "#--------------------------------------------- \n",
        "\n",
        "STEP_9_COMPLETE = False"
      ],
      "execution_count": null,
      "outputs": []
    },
    {
      "cell_type": "markdown",
      "metadata": {
        "id": "uSz8ttl3Fnoq"
      },
      "source": [
        "In the `computeBetasMatrixForm` function above I used the matrix form of Equation 3.4 on page 62 of ISLR. The equation is $\\mathbf{b} = \\left(\\mathbf{X}'\\mathbf{X}\\right)^{-1}\\mathbf{X}'\\mathbf{Y}$ and comes from Equation 5.60 on page 200 of _Applied Linear Statistical Models, 5th ed._ by Kutner, Nachtsheim, Neter, and Li. It is the book used in Math 696, Applied General Linear Models. The matrix form calculates the betas approximately 9% faster than the non-matrix form."
      ]
    },
    {
      "cell_type": "markdown",
      "metadata": {
        "id": "5HYBo4xWFnoq"
      },
      "source": [
        "#### STEP 10\n",
        "Compute and display the best $\\beta_0$ and $\\beta_1$ for the auto dataset by calling the closed-form function in step 9"
      ]
    },
    {
      "cell_type": "code",
      "metadata": {
        "id": "vBrgl69jFnoq"
      },
      "source": [
        "#STEP 10\n",
        "#STUDENT CODE - Compute and display beta0 and beta1 for the auto dataset by calling the closed-form function in step 9\n",
        "#---------------------------------------------\n",
        "\n",
        "#--------------------------------------------- \n",
        "\n",
        "STEP_10_COMPLETE = False"
      ],
      "execution_count": null,
      "outputs": []
    },
    {
      "cell_type": "markdown",
      "metadata": {
        "id": "egXjJaMGFnoq"
      },
      "source": [
        "#### STEP 11\n",
        "\n",
        "How does the closed form computed value of $\\beta_1$ compare with your estimate of $\\beta_1$ from step 6? \n",
        "\n",
        "<font color='green'>Student Answer</font>"
      ]
    },
    {
      "cell_type": "code",
      "metadata": {
        "id": "-R77DkajIVMU"
      },
      "source": [
        "STEP_11_COMPLETE = False"
      ],
      "execution_count": null,
      "outputs": []
    },
    {
      "cell_type": "markdown",
      "metadata": {
        "id": "uGkb7DP1Fnor"
      },
      "source": [
        "#### STEP 12\n",
        "Build a new scatterplot with horsepower(x axis) vs MPG (y axis). Label your scatterplot data, \"Raw data\".\n",
        "\n",
        "Add a <font color=\"green\">green</font> linear regression line formed by the closed form beta values you determined in STEP 10. Label your linear regression line, \"1st order closed-form fit\"."
      ]
    },
    {
      "cell_type": "code",
      "metadata": {
        "id": "4HdI1zXqFnor"
      },
      "source": [
        "#STEP 12\n",
        "\n",
        "#STUDENT CODE - Build a new scatterplot with horsepower(x axis) vs MPG (y axis)\n",
        "# add a line to the plot - the linear regression line implied by the beta0 and beta1 you determined in step 10 \n",
        "#---------------------------------------------          \n",
        "\n",
        "#--------------------------------------------- \n",
        "\n",
        "STEP_12_COMPLETE = False"
      ],
      "execution_count": null,
      "outputs": []
    },
    {
      "cell_type": "markdown",
      "metadata": {
        "id": "aNWzohOf0vBb"
      },
      "source": [
        "### Fit model using `sklearn`"
      ]
    },
    {
      "cell_type": "markdown",
      "metadata": {
        "id": "eeax8VpYFnos"
      },
      "source": [
        "#### STEP 13\n",
        "Use `sklearn`'s `linear_model` function to fit a linear model from horsepower to mpg. Store your model in a variable named `mpg_hp_model`. Calculate the coefficients, explained variance score, and MSE, storing the values in variables names `beta0`, `beta1`, `r2`, and `mse`. Display each of these values."
      ]
    },
    {
      "cell_type": "code",
      "metadata": {
        "scrolled": true,
        "id": "BwewImArFnos",
        "tags": [
          "step13"
        ]
      },
      "source": [
        "#STEP13\n",
        "\n",
        "#STUDENT CODE - Use sklearn's linear model function to fit a linar model from horsepower to mpg. \n",
        "# also, display the coefficients, MSE and explained variance score\n",
        "#---------------------------------------------          \n",
        "\n",
        "#--------------------------------------------- \n",
        "\n",
        "STEP_13_COMPLETE = False"
      ],
      "execution_count": null,
      "outputs": []
    },
    {
      "cell_type": "markdown",
      "metadata": {
        "id": "zmC25I3bFnos"
      },
      "source": [
        "#### STEP 14\n",
        "Build a new scatterplot with horsepower (x axis) vs MPG (y axis). Label your scatterplot data, \"Raw data\".\n",
        "\n",
        "Add a <font color=\"black\"><strong>black</strong></font> linear regression line implied by the sklearn model created in STEP 13."
      ]
    },
    {
      "cell_type": "code",
      "metadata": {
        "id": "hgZ-fHCbFnot"
      },
      "source": [
        "#STEP 14\n",
        "\n",
        "#STUDENT CODE - Build a new scatterplot with horsepower(x axis) vs MPG (y axis)\n",
        "# add a line to the plot - the linear regression line implied by the sklearn model determined in step 13 \n",
        "#---------------------------------------------   \n",
        "\n",
        "#--------------------------------------------- \n",
        "\n",
        "STEP_14_COMPLETE = False"
      ],
      "execution_count": null,
      "outputs": []
    },
    {
      "cell_type": "markdown",
      "metadata": {
        "id": "LIdZRrXyFnot"
      },
      "source": [
        "#### STEP 15a\n",
        "Compute the residual errors in predicting mpg from horsepower.  Plot these residual errors as a function of horsepower using a scatterplot.  Add a <font color=\"red\">red</font> horizontal line at y=0 to indicate the zero-error position."
      ]
    },
    {
      "cell_type": "code",
      "metadata": {
        "id": "PUDyjZyPFnot",
        "tags": [
          "step15a"
        ]
      },
      "source": [
        "#STUDENT CODE\n",
        "\n",
        "#---------------------------------------------  \n",
        "\n",
        "#---------------------------------------------      "
      ],
      "execution_count": null,
      "outputs": []
    },
    {
      "cell_type": "markdown",
      "metadata": {
        "id": "zUEDzETFFnot"
      },
      "source": [
        "#### STEP 15b\n",
        "\n",
        "Describe the plot - particularly the trends. Do the errors appear well-distributed, or are there trends? If there are trends, explain what these trends indicate about the ability to predict mpg from horsepower using a linear model, and give at least one course of action you could take to make a better model.\n",
        "\n",
        "<font color=\"green\">Student Answer</font>\n",
        "\n"
      ]
    },
    {
      "cell_type": "code",
      "metadata": {
        "id": "4I5amrJu8hSB"
      },
      "source": [
        "STEP_15_COMPLETE = False"
      ],
      "execution_count": null,
      "outputs": []
    },
    {
      "cell_type": "markdown",
      "metadata": {
        "id": "htWHch_l8iuZ"
      },
      "source": [
        "### Optional\n",
        "Optional (not required, but good practice in developing your coding skills):  build a structure containing possible values for $\\beta_0$ and $\\beta_1$ pairs.   Compute the RSS over all beta pairs at each cell in the matrix on the horsepower vs. MPG data.  Now build a contour and/or 3D plot of these RSS values as shown in the book Figure 3.2 on page 63 (the x and y axes are $\\beta_0$ and $\\beta_1$ and the z axis is RSS).   Write code to determine the beta pair with the minimum RSS.  Report the minimum value cost. On your contour/3D plot, add a point at the location of the $\\beta_0$, $\\beta_1$ coordinates which minimize the RSS."
      ]
    },
    {
      "cell_type": "code",
      "metadata": {
        "id": "HKwvzW879S52"
      },
      "source": [
        "#STUDENT CODE\n",
        "\n",
        "#---------------------------------------------\n",
        "\n",
        "#---------------------------------------------"
      ],
      "execution_count": null,
      "outputs": []
    }
  ]
}